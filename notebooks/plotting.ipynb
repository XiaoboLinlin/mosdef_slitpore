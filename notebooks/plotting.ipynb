{
 "cells": [
  {
   "cell_type": "markdown",
   "metadata": {},
   "source": [
    "## Plotting\n",
    "This notebook provides a walkthrough of plotting the figures contained within the supplementary information.  The plotting functions are contained in the `plotting` directory and will be imported in this notebook."
   ]
  },
  {
   "cell_type": "markdown",
   "metadata": {},
   "source": [
    "### Figure 2\n",
    "Figure 2 provides a comparison of pressure as a function of chemical potential for Cassandra and GOMC.  This is necessary to determine the chemical potential at the desired pressure of 1 bar."
   ]
  },
  {
   "cell_type": "code",
   "execution_count": null,
   "metadata": {},
   "outputs": [],
   "source": [
    "from plotting import plot_gcmc\n",
    "\n",
    "# Plot pressure as a function of chemical potential\n",
    "plot_gcmc.plot_mu_vs_pressure()"
   ]
  },
  {
   "cell_type": "markdown",
   "metadata": {},
   "source": [
    "### Figure 3\n",
    "Figure 3 provides adsorption isotherms for Cassandra, GOMC, and the data from Striolo *et al.*"
   ]
  },
  {
   "cell_type": "code",
   "execution_count": null,
   "metadata": {},
   "outputs": [],
   "source": [
    "# Plot adsorption isotherms\n",
    "plot_gcmc.plot_ads_des_data()"
   ]
  },
  {
   "cell_type": "markdown",
   "metadata": {},
   "source": [
    "### Figure 4\n",
    "Figure 4 provides a) oxygen-atom b) hydrogen-atom and c) *S* order parameter across the large-2.0 nm pore containing 485 water molecules."
   ]
  },
  {
   "cell_type": "code",
   "execution_count": null,
   "metadata": {},
   "outputs": [],
   "source": [
    "from plotting import plot_structure\n",
    "\n",
    "# Plot structural data for large-2.0 system\n",
    "plot_structure.plot_large_2nm()"
   ]
  },
  {
   "cell_type": "markdown",
   "metadata": {},
   "source": [
    "### Figure 5\n",
    "Figure 5 provides a) oxygen-atom b) hydrogen-atom and c) *S* order parameter across the small-1.0 nm pore containing 485 water molecules."
   ]
  },
  {
   "cell_type": "code",
   "execution_count": null,
   "metadata": {},
   "outputs": [],
   "source": [
    "# Plot structural data for small-1.0 system\n",
    "plot_structure.plot_small_1nm()"
   ]
  },
  {
   "cell_type": "markdown",
   "metadata": {},
   "source": [
    "### Figure 6\n",
    "Figure 6 provides a) oxygen-atom b) hydrogen-atom c) *S* order parameter and d) $\\theta$ distribution across the small-1.0 nm pore containing a single water molecule for GROMACS and CP2K."
   ]
  },
  {
   "cell_type": "code",
   "execution_count": null,
   "metadata": {},
   "outputs": [],
   "source": [
    "# Plot structural data for small-1.0 system containing one water molecule\n",
    "plot_structure.plot_1_water()"
   ]
  },
  {
   "cell_type": "code",
   "execution_count": null,
   "metadata": {},
   "outputs": [],
   "source": []
  }
 ],
 "metadata": {
  "kernelspec": {
   "display_name": "Python 3",
   "language": "python",
   "name": "python3"
  },
  "language_info": {
   "codemirror_mode": {
    "name": "ipython",
    "version": 3
   },
   "file_extension": ".py",
   "mimetype": "text/x-python",
   "name": "python",
   "nbconvert_exporter": "python",
   "pygments_lexer": "ipython3",
   "version": "3.7.8"
  }
 },
 "nbformat": 4,
 "nbformat_minor": 4
}
