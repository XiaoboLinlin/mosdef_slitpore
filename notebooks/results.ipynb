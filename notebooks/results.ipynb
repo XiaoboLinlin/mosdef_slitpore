{
 "cells": [
  {
   "cell_type": "markdown",
   "metadata": {},
   "source": [
    "## Overview of `mosdef_slitpore`\n",
    "\n",
    "This notebook is designed to provide an overview of the data generated from the simulation workflows contained within this repository."
   ]
  },
  {
   "cell_type": "markdown",
   "metadata": {},
   "source": [
    "### Adsorption/ Desorption Simulations\n",
    "Grand Canonical Monte Carlo (GCMC) simulations were performed with GOMC and Cassandra"
   ]
  },
  {
   "cell_type": "markdown",
   "metadata": {},
   "source": [
    "### NVT Simulations\n",
    "Once the number of waters in a given slitpore and given pressure were determined from the adsorption/ desorption simulations, NVT simulations were performed in: GOMC, Cassandra, GROMACS, LAMMPS, and CP2K."
   ]
  },
  {
   "cell_type": "markdown",
   "metadata": {},
   "source": [
    "### Plotting\n",
    "The plotting functions are contained within the `plotting.py` module.  Here we will import and call these functions to plot the data and provide some discussion"
   ]
  },
  {
   "cell_type": "code",
   "execution_count": null,
   "metadata": {},
   "outputs": [],
   "source": [
    "from mosdef_slitpore.plotting import plotting"
   ]
  },
  {
   "cell_type": "code",
   "execution_count": null,
   "metadata": {},
   "outputs": [],
   "source": [
    "# Plot number density and S order parameter data for large-2.0 nm system\n",
    "plotting.plot_large_2nm()"
   ]
  },
  {
   "cell_type": "code",
   "execution_count": null,
   "metadata": {},
   "outputs": [],
   "source": [
    "# Plot number density and S order parameter data for small-1.0 nm system\n",
    "plotting.plot_small_1nm()"
   ]
  },
  {
   "cell_type": "code",
   "execution_count": null,
   "metadata": {},
   "outputs": [],
   "source": [
    "# Plot number density and S order parameter data for 1 water system\n",
    "plotting.plot_1_water()"
   ]
  },
  {
   "cell_type": "code",
   "execution_count": null,
   "metadata": {},
   "outputs": [],
   "source": []
  }
 ],
 "metadata": {
  "kernelspec": {
   "display_name": "Python 3",
   "language": "python",
   "name": "python3"
  },
  "language_info": {
   "codemirror_mode": {
    "name": "ipython",
    "version": 3
   },
   "file_extension": ".py",
   "mimetype": "text/x-python",
   "name": "python",
   "nbconvert_exporter": "python",
   "pygments_lexer": "ipython3",
   "version": "3.7.8"
  }
 },
 "nbformat": 4,
 "nbformat_minor": 4
}
