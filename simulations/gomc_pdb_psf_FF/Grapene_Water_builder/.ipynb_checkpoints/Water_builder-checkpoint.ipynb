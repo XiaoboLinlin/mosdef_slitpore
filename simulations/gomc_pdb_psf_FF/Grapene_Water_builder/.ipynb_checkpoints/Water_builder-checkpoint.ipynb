{
 "cells": [
  {
   "cell_type": "code",
   "execution_count": 2,
   "metadata": {
    "scrolled": false
   },
   "outputs": [
    {
     "name": "stdout",
     "output_type": "stream",
     "text": [
      "In compound.py: starting writing parmed structure\n",
      "In compound.py: finished writing parmed structure\n",
      "coulomb14scaler = 0.5\n",
      "LJ14scaler = 0.5\n",
      "In compound.py: starting writing parmed structure\n",
      "In compound.py: finished writing parmed structure\n",
      "In compound.py: starting writing ff to structure\n"
     ]
    },
    {
     "name": "stderr",
     "output_type": "stream",
     "text": [
      "/home/brad/Programs/anaconda3/lib/python3.7/site-packages/parmed/openmm/topsystem.py:238: OpenMMWarning: Adding what seems to be Urey-Bradley terms before Angles. This is unexpected, but the parameters will all be present in one form or another.\n",
      "  'all be present in one form or another.', OpenMMWarning)\n"
     ]
    },
    {
     "ename": "Exception",
     "evalue": "Parameters have not been assigned to all angles. Total system angles: 320, Parameterized angles: 0",
     "output_type": "error",
     "traceback": [
      "\u001b[0;31m---------------------------------------------------------------------------\u001b[0m",
      "\u001b[0;31mException\u001b[0m                                 Traceback (most recent call last)",
      "\u001b[0;32m<ipython-input-2-6573a2c19485>\u001b[0m in \u001b[0;36m<module>\u001b[0;34m\u001b[0m\n\u001b[1;32m     16\u001b[0m \u001b[0;34m\u001b[0m\u001b[0m\n\u001b[1;32m     17\u001b[0m \u001b[0;34m\u001b[0m\u001b[0m\n\u001b[0;32m---> 18\u001b[0;31m \u001b[0msystem\u001b[0m\u001b[0;34m.\u001b[0m\u001b[0msave\u001b[0m\u001b[0;34m(\u001b[0m\u001b[0;34m'solvated_pore.inp'\u001b[0m\u001b[0;34m,\u001b[0m \u001b[0mforcefield_files\u001b[0m\u001b[0;34m=\u001b[0m\u001b[0;34m'files/oplsaa.xml'\u001b[0m\u001b[0;34m,\u001b[0m \u001b[0moverwrite\u001b[0m\u001b[0;34m=\u001b[0m\u001b[0;32mTrue\u001b[0m\u001b[0;34m)\u001b[0m\u001b[0;34m\u001b[0m\u001b[0;34m\u001b[0m\u001b[0m\n\u001b[0m\u001b[1;32m     19\u001b[0m \u001b[0msystem\u001b[0m\u001b[0;34m.\u001b[0m\u001b[0msave\u001b[0m\u001b[0;34m(\u001b[0m\u001b[0;34m'solvated_pore.lammps'\u001b[0m\u001b[0;34m,\u001b[0m \u001b[0mforcefield_files\u001b[0m\u001b[0;34m=\u001b[0m\u001b[0;34m'files/oplsaa.xml'\u001b[0m\u001b[0;34m,\u001b[0m \u001b[0moverwrite\u001b[0m\u001b[0;34m=\u001b[0m\u001b[0;32mTrue\u001b[0m\u001b[0;34m,\u001b[0m \u001b[0mcombine\u001b[0m\u001b[0;34m=\u001b[0m\u001b[0;34m'all'\u001b[0m\u001b[0;34m)\u001b[0m\u001b[0;34m\u001b[0m\u001b[0;34m\u001b[0m\u001b[0m\n\u001b[1;32m     20\u001b[0m \u001b[0;34m\u001b[0m\u001b[0m\n",
      "\u001b[0;32m~/Programs/anaconda3/lib/python3.7/site-packages/mbuild/compound.py\u001b[0m in \u001b[0;36msave\u001b[0;34m(self, filename, show_ports, forcefield_name, forcefield_files, forcefield_debug, box, overwrite, residues, residues_parmed_only, combining_rule, foyer_kwargs, **kwargs)\u001b[0m\n\u001b[1;32m   2009\u001b[0m             \u001b[0;32mif\u001b[0m \u001b[0;32mnot\u001b[0m \u001b[0mfoyer_kwargs\u001b[0m\u001b[0;34m:\u001b[0m\u001b[0;34m\u001b[0m\u001b[0;34m\u001b[0m\u001b[0m\n\u001b[1;32m   2010\u001b[0m                 \u001b[0mfoyer_kwargs\u001b[0m \u001b[0;34m=\u001b[0m \u001b[0;34m{\u001b[0m\u001b[0;34m}\u001b[0m\u001b[0;34m\u001b[0m\u001b[0;34m\u001b[0m\u001b[0m\n\u001b[0;32m-> 2011\u001b[0;31m             \u001b[0mstructure\u001b[0m \u001b[0;34m=\u001b[0m \u001b[0mff\u001b[0m\u001b[0;34m.\u001b[0m\u001b[0mapply\u001b[0m\u001b[0;34m(\u001b[0m\u001b[0mstructure\u001b[0m\u001b[0;34m,\u001b[0m \u001b[0;34m**\u001b[0m\u001b[0mfoyer_kwargs\u001b[0m\u001b[0;34m)\u001b[0m\u001b[0;34m\u001b[0m\u001b[0;34m\u001b[0m\u001b[0m\n\u001b[0m\u001b[1;32m   2012\u001b[0m             \u001b[0mstructure\u001b[0m\u001b[0;34m.\u001b[0m\u001b[0mcombining_rule\u001b[0m \u001b[0;34m=\u001b[0m \u001b[0mcombining_rule\u001b[0m\u001b[0;34m\u001b[0m\u001b[0;34m\u001b[0m\u001b[0m\n\u001b[1;32m   2013\u001b[0m             \u001b[0mprint\u001b[0m\u001b[0;34m(\u001b[0m\u001b[0;34m'returned structure'\u001b[0m\u001b[0;34m)\u001b[0m\u001b[0;34m\u001b[0m\u001b[0;34m\u001b[0m\u001b[0m\n",
      "\u001b[0;32m~/Programs/anaconda3/lib/python3.7/site-packages/foyer/forcefield.py\u001b[0m in \u001b[0;36mapply\u001b[0;34m(self, structure, references_file, use_residue_map, assert_bond_params, assert_angle_params, assert_dihedral_params, assert_improper_params, combining_rule, verbose, *args, **kwargs)\u001b[0m\n\u001b[1;32m    563\u001b[0m             \u001b[0massert_angle_params\u001b[0m\u001b[0;34m=\u001b[0m\u001b[0massert_angle_params\u001b[0m\u001b[0;34m,\u001b[0m \u001b[0massert_dihedral_params\u001b[0m\u001b[0;34m=\u001b[0m\u001b[0massert_dihedral_params\u001b[0m\u001b[0;34m,\u001b[0m\u001b[0;34m\u001b[0m\u001b[0;34m\u001b[0m\u001b[0m\n\u001b[1;32m    564\u001b[0m             \u001b[0massert_improper_params\u001b[0m\u001b[0;34m=\u001b[0m\u001b[0massert_improper_params\u001b[0m\u001b[0;34m,\u001b[0m \u001b[0mcombining_rule\u001b[0m\u001b[0;34m=\u001b[0m\u001b[0mcombining_rule\u001b[0m\u001b[0;34m,\u001b[0m\u001b[0;34m\u001b[0m\u001b[0;34m\u001b[0m\u001b[0m\n\u001b[0;32m--> 565\u001b[0;31m             verbose=verbose, *args, **kwargs)\n\u001b[0m\u001b[1;32m    566\u001b[0m \u001b[0;34m\u001b[0m\u001b[0m\n\u001b[1;32m    567\u001b[0m     \u001b[0;32mdef\u001b[0m \u001b[0mrun_atomtyping\u001b[0m\u001b[0;34m(\u001b[0m\u001b[0mself\u001b[0m\u001b[0;34m,\u001b[0m \u001b[0mstructure\u001b[0m\u001b[0;34m,\u001b[0m \u001b[0muse_residue_map\u001b[0m\u001b[0;34m=\u001b[0m\u001b[0;32mTrue\u001b[0m\u001b[0;34m,\u001b[0m \u001b[0;34m**\u001b[0m\u001b[0mkwargs\u001b[0m\u001b[0;34m)\u001b[0m\u001b[0;34m:\u001b[0m\u001b[0;34m\u001b[0m\u001b[0;34m\u001b[0m\u001b[0m\n",
      "\u001b[0;32m~/Programs/anaconda3/lib/python3.7/site-packages/foyer/forcefield.py\u001b[0m in \u001b[0;36mparametrize_system\u001b[0;34m(self, structure, references_file, assert_bond_params, assert_angle_params, assert_dihedral_params, assert_improper_params, combining_rule, verbose, *args, **kwargs)\u001b[0m\n\u001b[1;32m    630\u001b[0m \u001b[0;34m\u001b[0m\u001b[0m\n\u001b[1;32m    631\u001b[0m         \u001b[0m_check_bonds\u001b[0m\u001b[0;34m(\u001b[0m\u001b[0mdata\u001b[0m\u001b[0;34m,\u001b[0m \u001b[0mstructure\u001b[0m\u001b[0;34m,\u001b[0m \u001b[0massert_bond_params\u001b[0m\u001b[0;34m)\u001b[0m\u001b[0;34m\u001b[0m\u001b[0;34m\u001b[0m\u001b[0m\n\u001b[0;32m--> 632\u001b[0;31m         \u001b[0m_check_angles\u001b[0m\u001b[0;34m(\u001b[0m\u001b[0mdata\u001b[0m\u001b[0;34m,\u001b[0m \u001b[0mstructure\u001b[0m\u001b[0;34m,\u001b[0m \u001b[0mverbose\u001b[0m\u001b[0;34m,\u001b[0m \u001b[0massert_angle_params\u001b[0m\u001b[0;34m)\u001b[0m\u001b[0;34m\u001b[0m\u001b[0;34m\u001b[0m\u001b[0m\n\u001b[0m\u001b[1;32m    633\u001b[0m         _check_dihedrals(data, structure, verbose,\n\u001b[1;32m    634\u001b[0m                               assert_dihedral_params, assert_improper_params)\n",
      "\u001b[0;32m~/Programs/anaconda3/lib/python3.7/site-packages/foyer/forcefield.py\u001b[0m in \u001b[0;36m_check_angles\u001b[0;34m(data, structure, verbose, assert_angle_params)\u001b[0m\n\u001b[1;32m    298\u001b[0m                \u001b[0;34m\"system angles: {}, Parameterized angles: {}\"\u001b[0m\u001b[0;34m\u001b[0m\u001b[0;34m\u001b[0m\u001b[0m\n\u001b[1;32m    299\u001b[0m                \"\".format(len(data.angles), len(structure.angles)))\n\u001b[0;32m--> 300\u001b[0;31m         \u001b[0m_error_or_warn\u001b[0m\u001b[0;34m(\u001b[0m\u001b[0massert_angle_params\u001b[0m\u001b[0;34m,\u001b[0m \u001b[0mmsg\u001b[0m\u001b[0;34m)\u001b[0m\u001b[0;34m\u001b[0m\u001b[0;34m\u001b[0m\u001b[0m\n\u001b[0m\u001b[1;32m    301\u001b[0m \u001b[0;34m\u001b[0m\u001b[0m\n\u001b[1;32m    302\u001b[0m \u001b[0;34m\u001b[0m\u001b[0m\n",
      "\u001b[0;32m~/Programs/anaconda3/lib/python3.7/site-packages/foyer/forcefield.py\u001b[0m in \u001b[0;36m_error_or_warn\u001b[0;34m(error, msg)\u001b[0m\n\u001b[1;32m    263\u001b[0m     \"\"\"\n\u001b[1;32m    264\u001b[0m     \u001b[0;32mif\u001b[0m \u001b[0merror\u001b[0m\u001b[0;34m:\u001b[0m\u001b[0;34m\u001b[0m\u001b[0;34m\u001b[0m\u001b[0m\n\u001b[0;32m--> 265\u001b[0;31m         \u001b[0;32mraise\u001b[0m \u001b[0mException\u001b[0m\u001b[0;34m(\u001b[0m\u001b[0mmsg\u001b[0m\u001b[0;34m)\u001b[0m\u001b[0;34m\u001b[0m\u001b[0;34m\u001b[0m\u001b[0m\n\u001b[0m\u001b[1;32m    266\u001b[0m     \u001b[0;32melse\u001b[0m\u001b[0;34m:\u001b[0m\u001b[0;34m\u001b[0m\u001b[0;34m\u001b[0m\u001b[0m\n\u001b[1;32m    267\u001b[0m         \u001b[0mwarnings\u001b[0m\u001b[0;34m.\u001b[0m\u001b[0mwarn\u001b[0m\u001b[0;34m(\u001b[0m\u001b[0mmsg\u001b[0m\u001b[0;34m)\u001b[0m\u001b[0;34m\u001b[0m\u001b[0;34m\u001b[0m\u001b[0m\n",
      "\u001b[0;31mException\u001b[0m: Parameters have not been assigned to all angles. Total system angles: 320, Parameterized angles: 0"
     ]
    }
   ],
   "source": [
    "from porebuilder.porebuilder import GraphenePoreSolvent\n",
    "import mbuild as mb\n",
    "from foyer import Forcefield\n",
    "\n",
    "water = mb.load('files/tip3p.mol2')\n",
    "water.name = 'water'\n",
    "acn = mb.load('files/acn.mol2')\n",
    "acn.name = 'acn'\n",
    "\n",
    "C = Forcefield('files/carbon.xml')\n",
    "SPCE = Forcefield('files/spce.xml')\n",
    "OPLS = Forcefield('files/oplsaa.xml')\n",
    "\n",
    "system = mb.fill_box(compound=[water], n_compounds=[320], box=[3.9,3.9,3.9], overlap=0.3, seed=123)\n",
    "\n",
    "\n",
    "\n",
    "system.save('solvated_pore.inp', forcefield_files='files/oplsaa.xml', overwrite=True)\n",
    "system.save('solvated_pore.lammps', forcefield_files='files/oplsaa.xml', overwrite=True, combine='all')\n",
    "\n",
    "system.save('solvated_pore.pdb', overwrite=True)\n",
    "system.save('solvated_pore.psf', overwrite=True)\n",
    "\n",
    "\n",
    "\n",
    "system.visualize()\n"
   ]
  },
  {
   "cell_type": "code",
   "execution_count": 3,
   "metadata": {},
   "outputs": [
    {
     "name": "stderr",
     "output_type": "stream",
     "text": [
      "/home/brad/Programs/anaconda3/lib/python3.7/site-packages/pkg_resources/__init__.py:1146: DeprecationWarning: Use of .. or absolute path in a resource path is not allowed and will raise exceptions in a future release.\n",
      "  self, resource_name\n",
      "/home/brad/Programs/anaconda3/lib/python3.7/site-packages/mbuild/compound.py:2553: UserWarning: Guessing that \"<_CH3 pos=( 0.0000, 0.0000, 0.0000), 0 bonds, id: 140647739313360>\" is element: \"EP\"\n",
      "  atom, element))\n",
      "/home/brad/Programs/anaconda3/lib/python3.7/site-packages/mbuild/compound.py:2553: UserWarning: Guessing that \"<_HC pos=(-0.2318, 0.2134, 0.1244), 0 bonds, id: 140647739189456>\" is element: \"EP\"\n",
      "  atom, element))\n",
      "/home/brad/Programs/anaconda3/lib/python3.7/site-packages/mbuild/compound.py:2553: UserWarning: Guessing that \"<_CH3 pos=( 0.0036,-0.0018, 0.0011), 0 bonds, id: 140647739313360>\" is element: \"EP\"\n",
      "  atom, element))\n",
      "/home/brad/Programs/anaconda3/lib/python3.7/site-packages/mbuild/compound.py:2553: UserWarning: Guessing that \"<_HC pos=(-0.2354, 0.2126, 0.1261), 0 bonds, id: 140647739189456>\" is element: \"EP\"\n",
      "  atom, element))\n"
     ]
    },
    {
     "name": "stdout",
     "output_type": "stream",
     "text": [
      "In compound.py: starting writing parmed structure\n",
      "In compound.py: finished writing parmed structure\n",
      "on box_liq = mb.fill_box\n",
      "In compound.py: starting writing parmed structure\n",
      "In compound.py: finished writing parmed structure\n"
     ]
    },
    {
     "name": "stderr",
     "output_type": "stream",
     "text": [
      "/home/brad/Programs/anaconda3/lib/python3.7/site-packages/mbuild/compound.py:2553: UserWarning: Guessing that \"<_CH3 pos=(-0.0358, 0.0008,-0.0490), 0 bonds, id: 140647739313360>\" is element: \"EP\"\n",
      "  atom, element))\n",
      "/home/brad/Programs/anaconda3/lib/python3.7/site-packages/mbuild/compound.py:2553: UserWarning: Guessing that \"<_HC pos=(-0.1966, 0.2146, 0.1583), 0 bonds, id: 140647739189456>\" is element: \"EP\"\n",
      "  atom, element))\n"
     ]
    },
    {
     "name": "stdout",
     "output_type": "stream",
     "text": [
      "In compound.py: starting writing parmed structure\n"
     ]
    },
    {
     "name": "stderr",
     "output_type": "stream",
     "text": [
      "/home/brad/Programs/anaconda3/lib/python3.7/site-packages/mbuild/compound.py:2553: UserWarning: Guessing that \"<_CH3 pos=( 0.0232, 2.6521, 0.7739), 0 bonds, id: 140647732396176>\" is element: \"EP\"\n",
      "  atom, element))\n",
      "/home/brad/Programs/anaconda3/lib/python3.7/site-packages/mbuild/compound.py:2553: UserWarning: Guessing that \"<_HC pos=( 0.2770, 2.8759, 0.7651), 0 bonds, id: 140647734484560>\" is element: \"EP\"\n",
      "  atom, element))\n"
     ]
    },
    {
     "name": "stdout",
     "output_type": "stream",
     "text": [
      "In compound.py: finished writing parmed structure\n",
      "In compound.py: starting writing structure_to_parmed_only \n",
      "In compound.py: finished writing structure_to_parmed_only \n",
      "location 1\n",
      "location 2\n",
      "location 3\n",
      "location 4\n",
      "location 4\n",
      "coulomb14scaler = 0.0\n",
      "LJ14scaler = 0.0\n",
      "In compound.py: starting writing parmed structure\n",
      "In compound.py: finished writing parmed structure\n",
      "In compound.py: starting writing ff to structure\n",
      "returned structure\n",
      "<Structure 2560 atoms; 1 residues; 2240 bonds; PBC (orthogonal); parametrized>\n",
      "In compound.py: finished writing ff to structure\n",
      "In compound.py: starting writing structure_to_parmed_only \n",
      "In compound.py: finished writing structure_to_parmed_only \n",
      "gomc_psf file is running\n",
      "No urey bradley terms detected\n",
      "RB Torsions detected, will converted to CHARMM Dihedrals\n",
      "In compound.py: starting writing parmed structure\n",
      "In compound.py: finished writing parmed structure\n",
      "In compound.py: starting writing parmed structure\n",
      "In compound.py: finished writing parmed structure\n",
      "In compound.py: starting writing structure_to_parmed_only \n",
      "In compound.py: finished writing structure_to_parmed_only \n",
      "location 1\n",
      "location 2\n",
      "location 3\n",
      "location 4\n",
      "location 4\n"
     ]
    },
    {
     "name": "stderr",
     "output_type": "stream",
     "text": [
      "/home/brad/Programs/anaconda3/lib/python3.7/site-packages/mbuild/compound.py:2553: UserWarning: Guessing that \"<_CH3 pos=( 2.2203, 1.5904, 1.5486), 0 bonds, id: 140647767806672>\" is element: \"EP\"\n",
      "  atom, element))\n",
      "/home/brad/Programs/anaconda3/lib/python3.7/site-packages/mbuild/compound.py:2553: UserWarning: Guessing that \"<_HC pos=( 2.0674, 1.3758, 1.3362), 0 bonds, id: 140647768188560>\" is element: \"EP\"\n",
      "  atom, element))\n"
     ]
    },
    {
     "name": "stdout",
     "output_type": "stream",
     "text": [
      "coulomb14scaler = 0.0\n",
      "LJ14scaler = 0.0\n",
      "In compound.py: starting writing parmed structure\n",
      "In compound.py: finished writing parmed structure\n",
      "In compound.py: starting writing ff to structure\n"
     ]
    },
    {
     "name": "stderr",
     "output_type": "stream",
     "text": [
      "/home/brad/Programs/anaconda3/lib/python3.7/site-packages/foyer/forcefield.py:267: UserWarning: Parameters have not been assigned to all impropers. Total system impropers: 250, Parameterized impropers: 0. Note that if your system contains torsions of Ryckaert-Bellemans functional form, all of these torsions are processed as propers\n",
      "  warnings.warn(msg)\n"
     ]
    },
    {
     "name": "stdout",
     "output_type": "stream",
     "text": [
      "returned structure\n",
      "<Structure 400 atoms; 1 residues; 350 bonds; PBC (orthogonal); parametrized>\n",
      "In compound.py: finished writing ff to structure\n",
      "In compound.py: starting writing structure_to_parmed_only \n",
      "In compound.py: finished writing structure_to_parmed_only \n",
      "gomc_psf file is running\n",
      "No urey bradley terms detected\n",
      "RB Torsions detected, will converted to CHARMM Dihedrals\n",
      "coulomb14scaler = 0.0\n",
      "LJ14scaler = 0.0\n",
      "In compound.py: starting writing parmed structure\n",
      "In compound.py: finished writing parmed structure\n",
      "In compound.py: starting writing ff to structure\n",
      "returned structure\n",
      "<Structure 400 atoms; 1 residues; 350 bonds; PBC (orthogonal); parametrized>\n",
      "In compound.py: finished writing ff to structure\n",
      "write_gomcdata file is running\n",
      "structure.atoms from write_gomcdata\n",
      "AtomList([\n",
      "\t<Atom _CH3 [0]; In RES 0>\n",
      "\t<Atom C [1]; In RES 0>\n",
      "\t<Atom _CH2 [2]; In RES 0>\n",
      "\t<Atom _CH3 [3]; In RES 0>\n",
      "\t<Atom _CH3 [4]; In RES 0>\n",
      "\t<Atom _HC [5]; In RES 0>\n",
      "\t<Atom _CH3 [6]; In RES 0>\n",
      "\t<Atom _CH3 [7]; In RES 0>\n",
      "\t<Atom _CH3 [8]; In RES 0>\n",
      "\t<Atom C [9]; In RES 0>\n",
      "\t<Atom _CH2 [10]; In RES 0>\n",
      "\t<Atom _CH3 [11]; In RES 0>\n",
      "\t<Atom _CH3 [12]; In RES 0>\n",
      "\t<Atom _HC [13]; In RES 0>\n",
      "\t<Atom _CH3 [14]; In RES 0>\n",
      "\t<Atom _CH3 [15]; In RES 0>\n",
      "\t<Atom _CH3 [16]; In RES 0>\n",
      "\t<Atom C [17]; In RES 0>\n",
      "\t<Atom _CH2 [18]; In RES 0>\n",
      "\t<Atom _CH3 [19]; In RES 0>\n",
      "\t<Atom _CH3 [20]; In RES 0>\n",
      "\t<Atom _HC [21]; In RES 0>\n",
      "\t<Atom _CH3 [22]; In RES 0>\n",
      "\t<Atom _CH3 [23]; In RES 0>\n",
      "\t...\n",
      "\t<Atom _CH3 [395]; In RES 0>\n",
      "\t<Atom _CH3 [396]; In RES 0>\n",
      "\t<Atom _HC [397]; In RES 0>\n",
      "\t<Atom _CH3 [398]; In RES 0>\n",
      "\t<Atom _CH3 [399]; In RES 0>\n",
      "])\n",
      "structure.box[0:3] from write_gomcdata\n",
      "[79.00000095 79.00000095 79.00000095 90.         90.         90.        ]\n",
      "No urey bradley terms detected, will use angle_style harmonic\n",
      "RB Torsions detected, will use dihedral_style opls\n",
      "\n",
      "\n",
      "\n",
      "mass_dict\n",
      "{2: 15.035, 4: 12.01078, 1: 14.027, 3: 13.019}\n"
     ]
    },
    {
     "name": "stderr",
     "output_type": "stream",
     "text": [
      "/home/brad/Programs/anaconda3/lib/python3.7/site-packages/mbuild/formats/gomcdata.py:37: ParserWarning: Falling back to the 'python' engine because the 'c' engine does not support regex separators (separators > 1 char and different from '\\s+' are interpreted as regex); you can avoid this warning by specifying engine='python'.\n",
      "  system_information_dataframe = pd.read_csv(os.path.splitext(filename)[0] + \"_system_information.txt\", sep=\"    \", header=None)\n"
     ]
    },
    {
     "name": "stdout",
     "output_type": "stream",
     "text": [
      "! RB-torsion to CHARMM dihedral conversion error is OK [error <= 10^(-10)]\n",
      "! Maximum( |(RB-torsion calc)-(CHARMM dihedral calc)| ) =  7.105427357601002e-15\n",
      "\n",
      "NBFIX_Mixing not used or no mixing used for the non-bonded potentials out\n",
      "\n",
      "In compound.py: starting writing parmed structure\n",
      "In compound.py: finished writing parmed structure\n"
     ]
    },
    {
     "name": "stderr",
     "output_type": "stream",
     "text": [
      "/home/brad/Programs/anaconda3/lib/python3.7/site-packages/mbuild/compound.py:2553: UserWarning: Guessing that \"<_CH3 pos=(-0.0358, 0.0008,-0.0490), 0 bonds, id: 140647740310800>\" is element: \"EP\"\n",
      "  atom, element))\n",
      "/home/brad/Programs/anaconda3/lib/python3.7/site-packages/mbuild/compound.py:2553: UserWarning: Guessing that \"<_HC pos=(-0.1966, 0.2146, 0.1583), 0 bonds, id: 140647740313296>\" is element: \"EP\"\n",
      "  atom, element))\n"
     ]
    },
    {
     "data": {
      "application/3dmoljs_load.v0": "<div id=\"3dmolviewer_15906975964556468\"  style=\"position: relative; width: 640px; height: 480px\">\n        <p id=\"3dmolwarning_15906975964556468\" style=\"background-color:#ffcccc;color:black\">You appear to be running in JupyterLab (or JavaScript failed to load for some other reason).  You need to install the 3dmol extension: <br>\n        <tt>jupyter labextension install jupyterlab_3dmol</tt></p>\n        </div>\n<script>\n\nvar loadScriptAsync = function(uri){\n  return new Promise((resolve, reject) => {\n    var tag = document.createElement('script');\n    tag.src = uri;\n    tag.async = true;\n    tag.onload = () => {\n      resolve();\n    };\n  var firstScriptTag = document.getElementsByTagName('script')[0];\n  firstScriptTag.parentNode.insertBefore(tag, firstScriptTag);\n});\n};\n\nif(typeof $3Dmolpromise === 'undefined') {\n$3Dmolpromise = null;\n  $3Dmolpromise = loadScriptAsync('https://3dmol.csb.pitt.edu/build/3Dmol.js');\n}\n\nvar viewer_15906975964556468 = null;\nvar warn = document.getElementById(\"3dmolwarning_15906975964556468\");\nif(warn) {\n    warn.parentNode.removeChild(warn);\n}\n$3Dmolpromise.then(function() {\nviewer_15906975964556468 = $3Dmol.createViewer($(\"#3dmolviewer_15906975964556468\"),{backgroundColor:\"white\"});\n\tviewer_15906975964556468.addModel(\"@<TRIPOS>MOLECULE\\nRES\\n8 7 1 0 1\\nSMALL\\nNO_CHARGES\\n@<TRIPOS>CRYSIN\\n    7.2910     9.8580     9.3070    90.0000    90.0000    90.0000  1  1\\n@<TRIPOS>ATOM\\n       1 _CH3        -0.3580     0.0080    -0.4900 _CH3          1 RES     \\n       2 C           -1.8550    -0.0570    -0.1140 C             1 RES     \\n       3 _CH2        -2.4320     1.3190     0.3480 _CH2          1 RES     \\n       4 _CH3        -2.0720    -1.1990     0.9020 _CH3          1 RES     \\n       5 _CH3        -2.6180    -0.4510    -1.3930 _CH3          1 RES     \\n       6 _HC         -1.9660     2.1460     1.5830 _HC           1 RES     \\n       7 _CH3        -2.6490     1.7640     2.9140 _CH3          1 RES     \\n       8 _CH3        -2.1100     3.6590     1.3290 _CH3          1 RES     \\n@<TRIPOS>BOND\\n       1        2        4 1\\n       2        1        2 1\\n       3        5        2 1\\n       4        3        6 1\\n       5        3        2 1\\n       6        6        8 1\\n       7        6        7 1\\n@<TRIPOS>SUBSTRUCTURE\\n       1 RES             1 RESIDUE    0 **** ROOT      0\\n\",\"mol2\");\n\tviewer_15906975964556468.setStyle({\"stick\": {\"radius\": 0.2, \"color\": \"grey\"}, \"sphere\": {\"scale\": 0.3, \"colorscheme\": {}}});\n\tviewer_15906975964556468.zoomTo();\nviewer_15906975964556468.render();\n});\n</script>",
      "text/html": [
       "<div id=\"3dmolviewer_15906975964556468\"  style=\"position: relative; width: 640px; height: 480px\">\n",
       "        <p id=\"3dmolwarning_15906975964556468\" style=\"background-color:#ffcccc;color:black\">You appear to be running in JupyterLab (or JavaScript failed to load for some other reason).  You need to install the 3dmol extension: <br>\n",
       "        <tt>jupyter labextension install jupyterlab_3dmol</tt></p>\n",
       "        </div>\n",
       "<script>\n",
       "\n",
       "var loadScriptAsync = function(uri){\n",
       "  return new Promise((resolve, reject) => {\n",
       "    var tag = document.createElement('script');\n",
       "    tag.src = uri;\n",
       "    tag.async = true;\n",
       "    tag.onload = () => {\n",
       "      resolve();\n",
       "    };\n",
       "  var firstScriptTag = document.getElementsByTagName('script')[0];\n",
       "  firstScriptTag.parentNode.insertBefore(tag, firstScriptTag);\n",
       "});\n",
       "};\n",
       "\n",
       "if(typeof $3Dmolpromise === 'undefined') {\n",
       "$3Dmolpromise = null;\n",
       "  $3Dmolpromise = loadScriptAsync('https://3dmol.csb.pitt.edu/build/3Dmol.js');\n",
       "}\n",
       "\n",
       "var viewer_15906975964556468 = null;\n",
       "var warn = document.getElementById(\"3dmolwarning_15906975964556468\");\n",
       "if(warn) {\n",
       "    warn.parentNode.removeChild(warn);\n",
       "}\n",
       "$3Dmolpromise.then(function() {\n",
       "viewer_15906975964556468 = $3Dmol.createViewer($(\"#3dmolviewer_15906975964556468\"),{backgroundColor:\"white\"});\n",
       "\tviewer_15906975964556468.addModel(\"@<TRIPOS>MOLECULE\\nRES\\n8 7 1 0 1\\nSMALL\\nNO_CHARGES\\n@<TRIPOS>CRYSIN\\n    7.2910     9.8580     9.3070    90.0000    90.0000    90.0000  1  1\\n@<TRIPOS>ATOM\\n       1 _CH3        -0.3580     0.0080    -0.4900 _CH3          1 RES     \\n       2 C           -1.8550    -0.0570    -0.1140 C             1 RES     \\n       3 _CH2        -2.4320     1.3190     0.3480 _CH2          1 RES     \\n       4 _CH3        -2.0720    -1.1990     0.9020 _CH3          1 RES     \\n       5 _CH3        -2.6180    -0.4510    -1.3930 _CH3          1 RES     \\n       6 _HC         -1.9660     2.1460     1.5830 _HC           1 RES     \\n       7 _CH3        -2.6490     1.7640     2.9140 _CH3          1 RES     \\n       8 _CH3        -2.1100     3.6590     1.3290 _CH3          1 RES     \\n@<TRIPOS>BOND\\n       1        2        4 1\\n       2        1        2 1\\n       3        5        2 1\\n       4        3        6 1\\n       5        3        2 1\\n       6        6        8 1\\n       7        6        7 1\\n@<TRIPOS>SUBSTRUCTURE\\n       1 RES             1 RESIDUE    0 **** ROOT      0\\n\",\"mol2\");\n",
       "\tviewer_15906975964556468.setStyle({\"stick\": {\"radius\": 0.2, \"color\": \"grey\"}, \"sphere\": {\"scale\": 0.3, \"colorscheme\": {}}});\n",
       "\tviewer_15906975964556468.zoomTo();\n",
       "viewer_15906975964556468.render();\n",
       "});\n",
       "</script>"
      ]
     },
     "metadata": {},
     "output_type": "display_data"
    },
    {
     "data": {
      "text/plain": [
       "<py3Dmol.view at 0x7feb1999a110>"
      ]
     },
     "execution_count": 3,
     "metadata": {},
     "output_type": "execute_result"
    }
   ],
   "source": [
    "# build iso-octane box to test psf, pdb, and parameter file autogeneration\n",
    "import mbuild as mb\n",
    "from foyer import Forcefield\n",
    "import parmed as pmd\n",
    "from mbuild.utils.io import get_fn\n",
    "import os\n",
    "\n",
    "\n",
    "TrappeFF =  Forcefield(forcefield_files='trappe-ua.xml')\n",
    "        \n",
    "#Molecule_A = pmd.load_file('VMD_Build/corr_mass_types/n_decane/n_decane.mol2', structure=False)\n",
    "#Molecule_A =Alkane_Bead(chain_length=10, name='cmA')       \n",
    "\n",
    "Molecule_A = mb.load(get_fn('../../../../../../../../../../home/brad/Desktop/Test_psf_pdb_writers/mol2_files/iso_octane.mol2'))\n",
    "Molecule_A.name = 'IOT'\n",
    "TrappeFF.apply(Molecule_A)\n",
    "Molecule_A.energy_minimize(forcefield='trappe-ua.xml' , steps=1000)\n",
    "\n",
    "\n",
    "print(\"on box_liq = mb.fill_box\")\n",
    "box_liq = mb.fill_box(compound=[Molecule_A], n_compounds=[320], box=[3.9,3.9,3.9], overlap=0.3, seed=123)\n",
    "\n",
    "box_liq.save('START_BOX_0.pdb',  overwrite=True, residues_parmed_only=[Molecule_A.name])\n",
    "box_liq.save('START_BOX_0.psf', overwrite=True, forcefield_files='trappe-ua.xml', residues_parmed_only=[Molecule_A.name])\n",
    "#may try and use , use_residue_map=True at the end of the  .save file so the foyer.Forcefield file runs faseter\n",
    "\n",
    "box_vap = mb.fill_box(compound=[Molecule_A], n_compounds=[50], box=[7.9,7.9,7.9], overlap=0.3, seed=123)\n",
    "box_vap.save('START_BOX_1.pdb', overwrite=True, residues_parmed_only=[Molecule_A.name])\n",
    "box_vap.save('START_BOX_1.psf', overwrite=True, forcefield_files='trappe-ua.xml', residues_parmed_only=[Molecule_A.name])\n",
    "\n",
    "\n",
    "\n",
    "#box_vap.save('box.lammps', forcefield_files='trappe-ua.xml', overwrite=True)\n",
    "box_vap.save('iso_octane.inp', forcefield_files='trappe-ua.xml', overwrite=True)\n",
    "\n",
    "\n",
    "Molecule_A.visualize()\n",
    "#Molecule_B.visualize()"
   ]
  },
  {
   "cell_type": "code",
   "execution_count": null,
   "metadata": {},
   "outputs": [],
   "source": []
  },
  {
   "cell_type": "code",
   "execution_count": null,
   "metadata": {},
   "outputs": [],
   "source": []
  },
  {
   "cell_type": "code",
   "execution_count": null,
   "metadata": {},
   "outputs": [],
   "source": []
  },
  {
   "cell_type": "code",
   "execution_count": null,
   "metadata": {},
   "outputs": [],
   "source": []
  }
 ],
 "metadata": {
  "kernelspec": {
   "display_name": "Python 3",
   "language": "python",
   "name": "python3"
  },
  "language_info": {
   "codemirror_mode": {
    "name": "ipython",
    "version": 3
   },
   "file_extension": ".py",
   "mimetype": "text/x-python",
   "name": "python",
   "nbconvert_exporter": "python",
   "pygments_lexer": "ipython3",
   "version": "3.7.6"
  }
 },
 "nbformat": 4,
 "nbformat_minor": 4
}
