{
 "cells": [
  {
   "cell_type": "code",
   "execution_count": null,
   "metadata": {
    "scrolled": true
   },
   "outputs": [
    {
     "name": "stderr",
     "output_type": "stream",
     "text": [
      "/home/brad/Programs/anaconda3/lib/python3.7/site-packages/pkg_resources/__init__.py:1146: DeprecationWarning: Use of .. or absolute path in a resource path is not allowed and will raise exceptions in a future release.\n",
      "  self, resource_name\n",
      "/home/brad/Programs/anaconda3/lib/python3.7/site-packages/mbuild/compound.py:2553: UserWarning: Guessing that \"<_CH3 pos=( 0.0000, 0.0000, 0.0000), 0 bonds, id: 140644740973456>\" is element: \"EP\"\n",
      "  atom, element))\n",
      "/home/brad/Programs/anaconda3/lib/python3.7/site-packages/mbuild/compound.py:2553: UserWarning: Guessing that \"<_HC pos=(-0.2318, 0.2134, 0.1244), 0 bonds, id: 140643581209488>\" is element: \"EP\"\n",
      "  atom, element))\n",
      "/home/brad/Programs/anaconda3/lib/python3.7/site-packages/mbuild/compound.py:2553: UserWarning: Guessing that \"<_CH3 pos=(-0.0046,-0.0021, 0.0002), 0 bonds, id: 140644740973456>\" is element: \"EP\"\n",
      "  atom, element))\n",
      "/home/brad/Programs/anaconda3/lib/python3.7/site-packages/mbuild/compound.py:2553: UserWarning: Guessing that \"<_HC pos=(-0.2305, 0.2149, 0.1197), 0 bonds, id: 140643581209488>\" is element: \"EP\"\n",
      "  atom, element))\n"
     ]
    },
    {
     "name": "stdout",
     "output_type": "stream",
     "text": [
      "cmA\n",
      "In compound.py: starting writing parmed structure\n",
      "In compound.py: finished writing parmed structure\n"
     ]
    },
    {
     "name": "stderr",
     "output_type": "stream",
     "text": [
      "/home/brad/Programs/anaconda3/lib/python3.7/site-packages/mbuild/compound.py:2553: UserWarning: Guessing that \"<_CH3 pos=( 0.0000, 0.0000, 0.0000), 0 bonds, id: 140643580780176>\" is element: \"EP\"\n",
      "  atom, element))\n",
      "/home/brad/Programs/anaconda3/lib/python3.7/site-packages/mbuild/compound.py:2553: UserWarning: Guessing that \"<_CH3 pos=( 0.0014,-0.0039,-0.0009), 0 bonds, id: 140643580780176>\" is element: \"EP\"\n",
      "  atom, element))\n"
     ]
    },
    {
     "name": "stdout",
     "output_type": "stream",
     "text": [
      "In compound.py: starting writing parmed structure\n",
      "In compound.py: finished writing parmed structure\n",
      "on box_liq = mb.fill_box\n",
      "In compound.py: starting writing parmed structure\n",
      "In compound.py: finished writing parmed structure\n",
      "In compound.py: starting writing parmed structure\n",
      "In compound.py: finished writing parmed structure\n"
     ]
    },
    {
     "name": "stderr",
     "output_type": "stream",
     "text": [
      "/home/brad/Programs/anaconda3/lib/python3.7/site-packages/mbuild/compound.py:2553: UserWarning: Guessing that \"<_CH3 pos=(-0.0449,-0.0016,-0.0621), 0 bonds, id: 140644740973456>\" is element: \"EP\"\n",
      "  atom, element))\n",
      "/home/brad/Programs/anaconda3/lib/python3.7/site-packages/mbuild/compound.py:2553: UserWarning: Guessing that \"<_HC pos=(-0.1906, 0.2204, 0.1476), 0 bonds, id: 140643581209488>\" is element: \"EP\"\n",
      "  atom, element))\n",
      "/home/brad/Programs/anaconda3/lib/python3.7/site-packages/mbuild/compound.py:2553: UserWarning: Guessing that \"<_CH3 pos=( 0.0293,-0.0012,-0.1638), 0 bonds, id: 140643580780176>\" is element: \"EP\"\n",
      "  atom, element))\n"
     ]
    },
    {
     "name": "stdout",
     "output_type": "stream",
     "text": [
      "on box_liq = box_liq.save('box_liq.pdb'\n",
      "In compound.py: starting writing parmed structure\n"
     ]
    },
    {
     "name": "stderr",
     "output_type": "stream",
     "text": [
      "/home/brad/Programs/anaconda3/lib/python3.7/site-packages/mbuild/compound.py:2553: UserWarning: Guessing that \"<_CH3 pos=( 14.5630, 11.8830, 13.8312), 0 bonds, id: 140643579389840>\" is element: \"EP\"\n",
      "  atom, element))\n",
      "/home/brad/Programs/anaconda3/lib/python3.7/site-packages/mbuild/compound.py:2553: UserWarning: Guessing that \"<_HC pos=( 14.5944, 12.1931, 13.6995), 0 bonds, id: 140643579526992>\" is element: \"EP\"\n",
      "  atom, element))\n"
     ]
    },
    {
     "name": "stdout",
     "output_type": "stream",
     "text": [
      "In compound.py: finished writing parmed structure\n",
      "In compound.py: starting writing structure_to_parmed_only \n"
     ]
    }
   ],
   "source": [
    "import mbuild as mb\n",
    "from foyer import Forcefield\n",
    "import parmed as pmd\n",
    "from mbuild.utils.io import get_fn\n",
    "import os\n",
    "\n",
    "class CH2_Bead(mb.Compound):\n",
    "    def __init__(self, name='CH2_Bead'):\n",
    "        super(CH2_Bead, self).__init__()\n",
    "        \n",
    "        self.name = name\n",
    "        \n",
    "        bead = mb.Particle(pos=[0.0, 0.0, 0.0], name='_CH2')\n",
    "        self.add(bead)\n",
    "        up_port = mb.Port(anchor=bead, orientation=[0, 0, 1], separation=0.05)\n",
    "        down_port = mb.Port(anchor=bead, orientation=[0, 0, -1], separation=0.05)\n",
    "        self.add(up_port, label='up')\n",
    "        self.add(down_port, label='down')\n",
    "        \n",
    "        \n",
    "class CH3_Bead(mb.Compound):\n",
    "    def __init__(self, name='CH3_Bead'):\n",
    "        super(CH3_Bead, self).__init__()\n",
    "        \n",
    "        self.name = name\n",
    "        \n",
    "        bead = mb.Particle(pos=[0.0, 0.0, 0.0], name='_CH3')\n",
    "        self.add(bead)\n",
    "\n",
    "        cap_port = mb.Port(anchor=bead, orientation=[0, 0, 1], separation=0.05)\n",
    "        self.add(cap_port, label='cap')\n",
    "\n",
    "class Alkane_Bead(mb.Compound):\n",
    "    def __init__(self,  chain_length=3, name='CGPolymer'):\n",
    "        super(Alkane_Bead, self).__init__()\n",
    "        \n",
    "        self.name = name\n",
    "        \n",
    "        terminal_bead = CH3_Bead()\n",
    "        last_unit = CH2_Bead()\n",
    "        mb.force_overlap(move_this=last_unit,\n",
    "                         from_positions=last_unit['up'],\n",
    "                         to_positions=terminal_bead['cap'])\n",
    "        self.add(terminal_bead, label='up-cap')   \n",
    "        self.add(last_unit, label='_A[$]')\n",
    "        for _ in range(chain_length - 3):\n",
    "            current_unit = CH2_Bead()\n",
    "            mb.force_overlap(move_this=current_unit,\n",
    "                             from_positions=current_unit['up'],\n",
    "                             to_positions=last_unit['down'])\n",
    "            self.add(current_unit, label='_A[$]')\n",
    "            last_unit=current_unit\n",
    "        terminal_bead = CH3_Bead()\n",
    "        mb.force_overlap(move_this=terminal_bead,\n",
    "                         from_positions=terminal_bead['cap'],\n",
    "                         to_positions=last_unit['down'])\n",
    "        self.add(terminal_bead, label='down-cap')\n",
    "        if chain_length < 3:\n",
    "            print(\"Note, the shortest chain this function will make is 3\")\n",
    "\n",
    "class isoButane(mb.Compound):\n",
    "    def __init__(self, name='isoButane'):\n",
    "        super(isoButane, self).__init__()\n",
    "        \n",
    "        self.name = name\n",
    "        \n",
    "        \n",
    "        CH_1_1 = mb.Particle(pos=[0.0, 0.0, 0.0], name='_HC')\n",
    "        CH3_1_1 = mb.Particle(pos=[0, 0.0, 0.0], name='_CH3')\n",
    "        CH3_1_2 = mb.Particle(pos=[0, 0.0, 0.0], name='_CH3')\n",
    "        CH3_1_3 = mb.Particle(pos=[0, 0, 0.0], name='_CH3')\n",
    "        self.add([CH_1_1, CH3_1_1, CH3_1_2, CH3_1_3])\n",
    "\n",
    "        port_1_CH_1_1 = mb.Port(anchor=CH_1_1, orientation= [-0.1,0,0], separation=0.05)\n",
    "        port_2_CH_1_1 = mb.Port(anchor=CH_1_1, orientation= [0,0.1,0], separation=0.05)\n",
    "        port_3_CH_1_1 = mb.Port(anchor=CH_1_1, orientation= [0,-0.1,0], separation=0.05)\n",
    "        port_1_CH3_1_1 = mb.Port(anchor=CH3_1_1, orientation= [-0.1,0,0], separation=0.05)\n",
    "        port_1_CH3_1_2 = mb.Port(anchor=CH3_1_2, orientation= [-0.1,0,0], separation=0.05)\n",
    "        port_1_CH3_1_3 = mb.Port(anchor=CH3_1_3, orientation= [-0.1,0,0], separation=0.05)\n",
    "\n",
    "\n",
    "        self.add(port_1_CH_1_1, label='left')\n",
    "        self.add(port_2_CH_1_1, label='right')\n",
    "        self.add(port_3_CH_1_1, label='down')\n",
    "        self.add(port_1_CH3_1_1, label='left_1')\n",
    "        self.add(port_1_CH3_1_2, label='left_2')\n",
    "        self.add(port_1_CH3_1_3, label='left_3')\n",
    "        \n",
    "        mb.force_overlap(move_this=CH3_1_1,\n",
    "                 from_positions=self['left_1'],\n",
    "                 to_positions=self['left'])\n",
    "        mb.force_overlap(move_this=CH3_1_2,\n",
    "                 from_positions=self['left_2'],\n",
    "                 to_positions=self['right'])\n",
    "        mb.force_overlap(move_this=CH3_1_3,\n",
    "                 from_positions=self['left_3'],\n",
    "                 to_positions=self['down'])\n",
    "                \n",
    "class ethane(mb.Compound):\n",
    "    def __init__(self, name='ethane'):\n",
    "        super(ethane, self).__init__()\n",
    "        \n",
    "        self.name = name\n",
    "        \n",
    "        \n",
    "        CH3_1_1 = mb.Particle(pos=[0, 0.0, 0.0], name='_CH3')\n",
    "        CH3_1_2 = mb.Particle(pos=[0, 0.0, 0.0], name='_CH3')\n",
    "        self.add([CH3_1_1, CH3_1_2])\n",
    "\n",
    "\n",
    "        port_1_CH3_1_1 = mb.Port(anchor=CH3_1_1, orientation= [-0.1,0,0], separation=0.05)\n",
    "        port_1_CH3_1_2 = mb.Port(anchor=CH3_1_2, orientation= [-0.1,0,0], separation=0.05)\n",
    "\n",
    "        self.add(port_1_CH3_1_1, label='left_1')\n",
    "        self.add(port_1_CH3_1_2, label='left_2')\n",
    "\n",
    "        \n",
    "        mb.force_overlap(move_this=CH3_1_1,\n",
    "                 from_positions=self['left_1'],\n",
    "                 to_positions=self['left_2'])\n",
    "\n",
    "        \n",
    "     \n",
    "\n",
    "TrappeFF =  Forcefield(forcefield_files='trappe-ua.xml')\n",
    "        \n",
    "#Molecule_A = pmd.load_file('VMD_Build/corr_mass_types/n_decane/n_decane.mol2', structure=False)\n",
    "#Molecule_A =Alkane_Bead(chain_length=10, name='cmA')       \n",
    "\n",
    "Molecule_A = mb.load(get_fn('../../../../../../../../../../home/brad/Desktop/Test_psf_pdb_writers/mol2_files/iso_octane.mol2'))\n",
    "Molecule_A.name = 'cmA'\n",
    "print(Molecule_A.name)\n",
    "TrappeFF.apply(Molecule_A)\n",
    "Molecule_A.energy_minimize(forcefield='trappe-ua.xml' , steps=1000)\n",
    "#print(Molecule_A.bond_graph)\n",
    "\n",
    "\n",
    "#Molecule_B = pmd.load_file('VMD_Build/corr_mass_types/iso_octane/iso_octane.mol2', structure=True)\n",
    "Molecule_B =Alkane_Bead(chain_length=12, name='cmB')   \n",
    "#Molecule_B = isoButane(name='cmB')\n",
    "TrappeFF.apply(Molecule_B)\n",
    "Molecule_B.energy_minimize(forcefield='trappe-ua.xml' , steps=1000)\n",
    "\n",
    "\n",
    "\n",
    "#box_liq = mb.fill_box(compound=[Molecule_A,Molecule_B], n_compounds=[10,10], box=[20,20,20], overlap=0.3, seed=123)\n",
    "#box_parmed = box.to_parmed(residues=[Molecule_A.name, Molecule_B.name])\n",
    "#box_parmed.save('box_orig.psf', overwrite=True)\n",
    "\n",
    "#box_parmed.save('box_parmed_orig.pdb', overwrite=True, use_hetatoms=False)\n",
    "\n",
    "#box.save('box.psf', overwrite=True, forcefield_files='trappe-ua.xml', residues_parmed_only=[Molecule_A.name, Molecule_B.name])\n",
    "print(\"on box_liq = mb.fill_box\")\n",
    "#box_liq = mb.fill_box(compound=[Molecule_A,Molecule_B], n_compounds=[10000,140], box=[18,18,18], overlap=0.3, seed=123)\n",
    "#box_liq = mb.fill_box(compound=[Molecule_A,Molecule_B], n_compounds=[140,140], box=[4,4,4], overlap=0.3, seed=123)\n",
    "box_liq = mb.fill_box(compound=[Molecule_A,Molecule_B], n_compounds=[140,140], box=[40,40,40], overlap=0.3, seed=123)\n",
    "print(\"on box_liq = box_liq.save('box_liq.pdb'\")\n",
    "box_liq.save('box_liq.pdb',  overwrite=True, residues_parmed_only=[Molecule_A.name, Molecule_B.name])\n",
    "print(\"on box_liq = box_liq.save('box_liq.psf'\")\n",
    "box_liq.save('box_liq.psf', overwrite=True, forcefield_files='trappe-ua.xml', residues_parmed_only=[Molecule_A.name, Molecule_B.name])\n",
    "#may try and use , use_residue_map=True at the end of the  .save file so the foyer.Forcefield file runs faseter\n",
    "\n",
    "#box_vap = mb.fill_box(compound=[Molecule_A,Molecule_B], n_compounds=[50,50], box=[60,60,60], overlap=0.3, seed=123)\n",
    "box_vap = mb.fill_box(compound=[Molecule_A,Molecule_B], n_compounds=[50,50], box=[8,8,8], overlap=0.3, seed=123)\n",
    "box_vap.save('box_vap.pdb', overwrite=True, residues_parmed_only=[Molecule_A.name, Molecule_B.name])\n",
    "box_vap.save('box_vap.psf', overwrite=True, forcefield_files='trappe-ua.xml', residues_parmed_only=[Molecule_A.name, Molecule_B.name])\n",
    "\n",
    "\n",
    "\n",
    "#box_vap.save('box.lammps', forcefield_files='trappe-ua.xml', overwrite=True)\n",
    "box_vap.save('box.inp', forcefield_files='trappe-ua.xml', overwrite=True)\n",
    "\n",
    "\n",
    "Molecule_A.visualize()\n",
    "#Molecule_B.visualize()\n"
   ]
  },
  {
   "cell_type": "code",
   "execution_count": 3,
   "metadata": {},
   "outputs": [
    {
     "name": "stderr",
     "output_type": "stream",
     "text": [
      "/home/brad/Programs/anaconda3/lib/python3.7/site-packages/pkg_resources/__init__.py:1146: DeprecationWarning: Use of .. or absolute path in a resource path is not allowed and will raise exceptions in a future release.\n",
      "  self, resource_name\n",
      "/home/brad/Programs/anaconda3/lib/python3.7/site-packages/mbuild/compound.py:2553: UserWarning: Guessing that \"<_CH3 pos=( 0.0000, 0.0000, 0.0000), 0 bonds, id: 140647739313360>\" is element: \"EP\"\n",
      "  atom, element))\n",
      "/home/brad/Programs/anaconda3/lib/python3.7/site-packages/mbuild/compound.py:2553: UserWarning: Guessing that \"<_HC pos=(-0.2318, 0.2134, 0.1244), 0 bonds, id: 140647739189456>\" is element: \"EP\"\n",
      "  atom, element))\n",
      "/home/brad/Programs/anaconda3/lib/python3.7/site-packages/mbuild/compound.py:2553: UserWarning: Guessing that \"<_CH3 pos=( 0.0036,-0.0018, 0.0011), 0 bonds, id: 140647739313360>\" is element: \"EP\"\n",
      "  atom, element))\n",
      "/home/brad/Programs/anaconda3/lib/python3.7/site-packages/mbuild/compound.py:2553: UserWarning: Guessing that \"<_HC pos=(-0.2354, 0.2126, 0.1261), 0 bonds, id: 140647739189456>\" is element: \"EP\"\n",
      "  atom, element))\n"
     ]
    },
    {
     "name": "stdout",
     "output_type": "stream",
     "text": [
      "In compound.py: starting writing parmed structure\n",
      "In compound.py: finished writing parmed structure\n",
      "on box_liq = mb.fill_box\n",
      "In compound.py: starting writing parmed structure\n",
      "In compound.py: finished writing parmed structure\n"
     ]
    },
    {
     "name": "stderr",
     "output_type": "stream",
     "text": [
      "/home/brad/Programs/anaconda3/lib/python3.7/site-packages/mbuild/compound.py:2553: UserWarning: Guessing that \"<_CH3 pos=(-0.0358, 0.0008,-0.0490), 0 bonds, id: 140647739313360>\" is element: \"EP\"\n",
      "  atom, element))\n",
      "/home/brad/Programs/anaconda3/lib/python3.7/site-packages/mbuild/compound.py:2553: UserWarning: Guessing that \"<_HC pos=(-0.1966, 0.2146, 0.1583), 0 bonds, id: 140647739189456>\" is element: \"EP\"\n",
      "  atom, element))\n"
     ]
    },
    {
     "name": "stdout",
     "output_type": "stream",
     "text": [
      "In compound.py: starting writing parmed structure\n"
     ]
    },
    {
     "name": "stderr",
     "output_type": "stream",
     "text": [
      "/home/brad/Programs/anaconda3/lib/python3.7/site-packages/mbuild/compound.py:2553: UserWarning: Guessing that \"<_CH3 pos=( 0.0232, 2.6521, 0.7739), 0 bonds, id: 140647732396176>\" is element: \"EP\"\n",
      "  atom, element))\n",
      "/home/brad/Programs/anaconda3/lib/python3.7/site-packages/mbuild/compound.py:2553: UserWarning: Guessing that \"<_HC pos=( 0.2770, 2.8759, 0.7651), 0 bonds, id: 140647734484560>\" is element: \"EP\"\n",
      "  atom, element))\n"
     ]
    },
    {
     "name": "stdout",
     "output_type": "stream",
     "text": [
      "In compound.py: finished writing parmed structure\n",
      "In compound.py: starting writing structure_to_parmed_only \n",
      "In compound.py: finished writing structure_to_parmed_only \n",
      "location 1\n",
      "location 2\n",
      "location 3\n",
      "location 4\n",
      "location 4\n",
      "coulomb14scaler = 0.0\n",
      "LJ14scaler = 0.0\n",
      "In compound.py: starting writing parmed structure\n",
      "In compound.py: finished writing parmed structure\n",
      "In compound.py: starting writing ff to structure\n",
      "returned structure\n",
      "<Structure 2560 atoms; 1 residues; 2240 bonds; PBC (orthogonal); parametrized>\n",
      "In compound.py: finished writing ff to structure\n",
      "In compound.py: starting writing structure_to_parmed_only \n",
      "In compound.py: finished writing structure_to_parmed_only \n",
      "gomc_psf file is running\n",
      "No urey bradley terms detected\n",
      "RB Torsions detected, will converted to CHARMM Dihedrals\n",
      "In compound.py: starting writing parmed structure\n",
      "In compound.py: finished writing parmed structure\n",
      "In compound.py: starting writing parmed structure\n",
      "In compound.py: finished writing parmed structure\n",
      "In compound.py: starting writing structure_to_parmed_only \n",
      "In compound.py: finished writing structure_to_parmed_only \n",
      "location 1\n",
      "location 2\n",
      "location 3\n",
      "location 4\n",
      "location 4\n"
     ]
    },
    {
     "name": "stderr",
     "output_type": "stream",
     "text": [
      "/home/brad/Programs/anaconda3/lib/python3.7/site-packages/mbuild/compound.py:2553: UserWarning: Guessing that \"<_CH3 pos=( 2.2203, 1.5904, 1.5486), 0 bonds, id: 140647767806672>\" is element: \"EP\"\n",
      "  atom, element))\n",
      "/home/brad/Programs/anaconda3/lib/python3.7/site-packages/mbuild/compound.py:2553: UserWarning: Guessing that \"<_HC pos=( 2.0674, 1.3758, 1.3362), 0 bonds, id: 140647768188560>\" is element: \"EP\"\n",
      "  atom, element))\n"
     ]
    },
    {
     "name": "stdout",
     "output_type": "stream",
     "text": [
      "coulomb14scaler = 0.0\n",
      "LJ14scaler = 0.0\n",
      "In compound.py: starting writing parmed structure\n",
      "In compound.py: finished writing parmed structure\n",
      "In compound.py: starting writing ff to structure\n"
     ]
    },
    {
     "name": "stderr",
     "output_type": "stream",
     "text": [
      "/home/brad/Programs/anaconda3/lib/python3.7/site-packages/foyer/forcefield.py:267: UserWarning: Parameters have not been assigned to all impropers. Total system impropers: 250, Parameterized impropers: 0. Note that if your system contains torsions of Ryckaert-Bellemans functional form, all of these torsions are processed as propers\n",
      "  warnings.warn(msg)\n"
     ]
    },
    {
     "name": "stdout",
     "output_type": "stream",
     "text": [
      "returned structure\n",
      "<Structure 400 atoms; 1 residues; 350 bonds; PBC (orthogonal); parametrized>\n",
      "In compound.py: finished writing ff to structure\n",
      "In compound.py: starting writing structure_to_parmed_only \n",
      "In compound.py: finished writing structure_to_parmed_only \n",
      "gomc_psf file is running\n",
      "No urey bradley terms detected\n",
      "RB Torsions detected, will converted to CHARMM Dihedrals\n",
      "coulomb14scaler = 0.0\n",
      "LJ14scaler = 0.0\n",
      "In compound.py: starting writing parmed structure\n",
      "In compound.py: finished writing parmed structure\n",
      "In compound.py: starting writing ff to structure\n",
      "returned structure\n",
      "<Structure 400 atoms; 1 residues; 350 bonds; PBC (orthogonal); parametrized>\n",
      "In compound.py: finished writing ff to structure\n",
      "write_gomcdata file is running\n",
      "structure.atoms from write_gomcdata\n",
      "AtomList([\n",
      "\t<Atom _CH3 [0]; In RES 0>\n",
      "\t<Atom C [1]; In RES 0>\n",
      "\t<Atom _CH2 [2]; In RES 0>\n",
      "\t<Atom _CH3 [3]; In RES 0>\n",
      "\t<Atom _CH3 [4]; In RES 0>\n",
      "\t<Atom _HC [5]; In RES 0>\n",
      "\t<Atom _CH3 [6]; In RES 0>\n",
      "\t<Atom _CH3 [7]; In RES 0>\n",
      "\t<Atom _CH3 [8]; In RES 0>\n",
      "\t<Atom C [9]; In RES 0>\n",
      "\t<Atom _CH2 [10]; In RES 0>\n",
      "\t<Atom _CH3 [11]; In RES 0>\n",
      "\t<Atom _CH3 [12]; In RES 0>\n",
      "\t<Atom _HC [13]; In RES 0>\n",
      "\t<Atom _CH3 [14]; In RES 0>\n",
      "\t<Atom _CH3 [15]; In RES 0>\n",
      "\t<Atom _CH3 [16]; In RES 0>\n",
      "\t<Atom C [17]; In RES 0>\n",
      "\t<Atom _CH2 [18]; In RES 0>\n",
      "\t<Atom _CH3 [19]; In RES 0>\n",
      "\t<Atom _CH3 [20]; In RES 0>\n",
      "\t<Atom _HC [21]; In RES 0>\n",
      "\t<Atom _CH3 [22]; In RES 0>\n",
      "\t<Atom _CH3 [23]; In RES 0>\n",
      "\t...\n",
      "\t<Atom _CH3 [395]; In RES 0>\n",
      "\t<Atom _CH3 [396]; In RES 0>\n",
      "\t<Atom _HC [397]; In RES 0>\n",
      "\t<Atom _CH3 [398]; In RES 0>\n",
      "\t<Atom _CH3 [399]; In RES 0>\n",
      "])\n",
      "structure.box[0:3] from write_gomcdata\n",
      "[79.00000095 79.00000095 79.00000095 90.         90.         90.        ]\n",
      "No urey bradley terms detected, will use angle_style harmonic\n",
      "RB Torsions detected, will use dihedral_style opls\n",
      "\n",
      "\n",
      "\n",
      "mass_dict\n",
      "{2: 15.035, 4: 12.01078, 1: 14.027, 3: 13.019}\n"
     ]
    },
    {
     "name": "stderr",
     "output_type": "stream",
     "text": [
      "/home/brad/Programs/anaconda3/lib/python3.7/site-packages/mbuild/formats/gomcdata.py:37: ParserWarning: Falling back to the 'python' engine because the 'c' engine does not support regex separators (separators > 1 char and different from '\\s+' are interpreted as regex); you can avoid this warning by specifying engine='python'.\n",
      "  system_information_dataframe = pd.read_csv(os.path.splitext(filename)[0] + \"_system_information.txt\", sep=\"    \", header=None)\n"
     ]
    },
    {
     "name": "stdout",
     "output_type": "stream",
     "text": [
      "! RB-torsion to CHARMM dihedral conversion error is OK [error <= 10^(-10)]\n",
      "! Maximum( |(RB-torsion calc)-(CHARMM dihedral calc)| ) =  7.105427357601002e-15\n",
      "\n",
      "NBFIX_Mixing not used or no mixing used for the non-bonded potentials out\n",
      "\n",
      "In compound.py: starting writing parmed structure\n",
      "In compound.py: finished writing parmed structure\n"
     ]
    },
    {
     "name": "stderr",
     "output_type": "stream",
     "text": [
      "/home/brad/Programs/anaconda3/lib/python3.7/site-packages/mbuild/compound.py:2553: UserWarning: Guessing that \"<_CH3 pos=(-0.0358, 0.0008,-0.0490), 0 bonds, id: 140647740310800>\" is element: \"EP\"\n",
      "  atom, element))\n",
      "/home/brad/Programs/anaconda3/lib/python3.7/site-packages/mbuild/compound.py:2553: UserWarning: Guessing that \"<_HC pos=(-0.1966, 0.2146, 0.1583), 0 bonds, id: 140647740313296>\" is element: \"EP\"\n",
      "  atom, element))\n"
     ]
    },
    {
     "data": {
      "application/3dmoljs_load.v0": "<div id=\"3dmolviewer_15906975964556468\"  style=\"position: relative; width: 640px; height: 480px\">\n        <p id=\"3dmolwarning_15906975964556468\" style=\"background-color:#ffcccc;color:black\">You appear to be running in JupyterLab (or JavaScript failed to load for some other reason).  You need to install the 3dmol extension: <br>\n        <tt>jupyter labextension install jupyterlab_3dmol</tt></p>\n        </div>\n<script>\n\nvar loadScriptAsync = function(uri){\n  return new Promise((resolve, reject) => {\n    var tag = document.createElement('script');\n    tag.src = uri;\n    tag.async = true;\n    tag.onload = () => {\n      resolve();\n    };\n  var firstScriptTag = document.getElementsByTagName('script')[0];\n  firstScriptTag.parentNode.insertBefore(tag, firstScriptTag);\n});\n};\n\nif(typeof $3Dmolpromise === 'undefined') {\n$3Dmolpromise = null;\n  $3Dmolpromise = loadScriptAsync('https://3dmol.csb.pitt.edu/build/3Dmol.js');\n}\n\nvar viewer_15906975964556468 = null;\nvar warn = document.getElementById(\"3dmolwarning_15906975964556468\");\nif(warn) {\n    warn.parentNode.removeChild(warn);\n}\n$3Dmolpromise.then(function() {\nviewer_15906975964556468 = $3Dmol.createViewer($(\"#3dmolviewer_15906975964556468\"),{backgroundColor:\"white\"});\n\tviewer_15906975964556468.addModel(\"@<TRIPOS>MOLECULE\\nRES\\n8 7 1 0 1\\nSMALL\\nNO_CHARGES\\n@<TRIPOS>CRYSIN\\n    7.2910     9.8580     9.3070    90.0000    90.0000    90.0000  1  1\\n@<TRIPOS>ATOM\\n       1 _CH3        -0.3580     0.0080    -0.4900 _CH3          1 RES     \\n       2 C           -1.8550    -0.0570    -0.1140 C             1 RES     \\n       3 _CH2        -2.4320     1.3190     0.3480 _CH2          1 RES     \\n       4 _CH3        -2.0720    -1.1990     0.9020 _CH3          1 RES     \\n       5 _CH3        -2.6180    -0.4510    -1.3930 _CH3          1 RES     \\n       6 _HC         -1.9660     2.1460     1.5830 _HC           1 RES     \\n       7 _CH3        -2.6490     1.7640     2.9140 _CH3          1 RES     \\n       8 _CH3        -2.1100     3.6590     1.3290 _CH3          1 RES     \\n@<TRIPOS>BOND\\n       1        2        4 1\\n       2        1        2 1\\n       3        5        2 1\\n       4        3        6 1\\n       5        3        2 1\\n       6        6        8 1\\n       7        6        7 1\\n@<TRIPOS>SUBSTRUCTURE\\n       1 RES             1 RESIDUE    0 **** ROOT      0\\n\",\"mol2\");\n\tviewer_15906975964556468.setStyle({\"stick\": {\"radius\": 0.2, \"color\": \"grey\"}, \"sphere\": {\"scale\": 0.3, \"colorscheme\": {}}});\n\tviewer_15906975964556468.zoomTo();\nviewer_15906975964556468.render();\n});\n</script>",
      "text/html": [
       "<div id=\"3dmolviewer_15906975964556468\"  style=\"position: relative; width: 640px; height: 480px\">\n",
       "        <p id=\"3dmolwarning_15906975964556468\" style=\"background-color:#ffcccc;color:black\">You appear to be running in JupyterLab (or JavaScript failed to load for some other reason).  You need to install the 3dmol extension: <br>\n",
       "        <tt>jupyter labextension install jupyterlab_3dmol</tt></p>\n",
       "        </div>\n",
       "<script>\n",
       "\n",
       "var loadScriptAsync = function(uri){\n",
       "  return new Promise((resolve, reject) => {\n",
       "    var tag = document.createElement('script');\n",
       "    tag.src = uri;\n",
       "    tag.async = true;\n",
       "    tag.onload = () => {\n",
       "      resolve();\n",
       "    };\n",
       "  var firstScriptTag = document.getElementsByTagName('script')[0];\n",
       "  firstScriptTag.parentNode.insertBefore(tag, firstScriptTag);\n",
       "});\n",
       "};\n",
       "\n",
       "if(typeof $3Dmolpromise === 'undefined') {\n",
       "$3Dmolpromise = null;\n",
       "  $3Dmolpromise = loadScriptAsync('https://3dmol.csb.pitt.edu/build/3Dmol.js');\n",
       "}\n",
       "\n",
       "var viewer_15906975964556468 = null;\n",
       "var warn = document.getElementById(\"3dmolwarning_15906975964556468\");\n",
       "if(warn) {\n",
       "    warn.parentNode.removeChild(warn);\n",
       "}\n",
       "$3Dmolpromise.then(function() {\n",
       "viewer_15906975964556468 = $3Dmol.createViewer($(\"#3dmolviewer_15906975964556468\"),{backgroundColor:\"white\"});\n",
       "\tviewer_15906975964556468.addModel(\"@<TRIPOS>MOLECULE\\nRES\\n8 7 1 0 1\\nSMALL\\nNO_CHARGES\\n@<TRIPOS>CRYSIN\\n    7.2910     9.8580     9.3070    90.0000    90.0000    90.0000  1  1\\n@<TRIPOS>ATOM\\n       1 _CH3        -0.3580     0.0080    -0.4900 _CH3          1 RES     \\n       2 C           -1.8550    -0.0570    -0.1140 C             1 RES     \\n       3 _CH2        -2.4320     1.3190     0.3480 _CH2          1 RES     \\n       4 _CH3        -2.0720    -1.1990     0.9020 _CH3          1 RES     \\n       5 _CH3        -2.6180    -0.4510    -1.3930 _CH3          1 RES     \\n       6 _HC         -1.9660     2.1460     1.5830 _HC           1 RES     \\n       7 _CH3        -2.6490     1.7640     2.9140 _CH3          1 RES     \\n       8 _CH3        -2.1100     3.6590     1.3290 _CH3          1 RES     \\n@<TRIPOS>BOND\\n       1        2        4 1\\n       2        1        2 1\\n       3        5        2 1\\n       4        3        6 1\\n       5        3        2 1\\n       6        6        8 1\\n       7        6        7 1\\n@<TRIPOS>SUBSTRUCTURE\\n       1 RES             1 RESIDUE    0 **** ROOT      0\\n\",\"mol2\");\n",
       "\tviewer_15906975964556468.setStyle({\"stick\": {\"radius\": 0.2, \"color\": \"grey\"}, \"sphere\": {\"scale\": 0.3, \"colorscheme\": {}}});\n",
       "\tviewer_15906975964556468.zoomTo();\n",
       "viewer_15906975964556468.render();\n",
       "});\n",
       "</script>"
      ]
     },
     "metadata": {},
     "output_type": "display_data"
    },
    {
     "data": {
      "text/plain": [
       "<py3Dmol.view at 0x7feb1999a110>"
      ]
     },
     "execution_count": 3,
     "metadata": {},
     "output_type": "execute_result"
    }
   ],
   "source": [
    "# build iso-octane box to test psf, pdb, and parameter file autogeneration\n",
    "import mbuild as mb\n",
    "from foyer import Forcefield\n",
    "import parmed as pmd\n",
    "from mbuild.utils.io import get_fn\n",
    "import os\n",
    "\n",
    "\n",
    "TrappeFF =  Forcefield(forcefield_files='trappe-ua.xml')\n",
    "        \n",
    "#Molecule_A = pmd.load_file('VMD_Build/corr_mass_types/n_decane/n_decane.mol2', structure=False)\n",
    "#Molecule_A =Alkane_Bead(chain_length=10, name='cmA')       \n",
    "\n",
    "Molecule_A = mb.load(get_fn('../../../../../../../../../../home/brad/Desktop/Test_psf_pdb_writers/mol2_files/iso_octane.mol2'))\n",
    "Molecule_A.name = 'IOT'\n",
    "TrappeFF.apply(Molecule_A)\n",
    "Molecule_A.energy_minimize(forcefield='trappe-ua.xml' , steps=1000)\n",
    "\n",
    "\n",
    "print(\"on box_liq = mb.fill_box\")\n",
    "box_liq = mb.fill_box(compound=[Molecule_A], n_compounds=[320], box=[3.9,3.9,3.9], overlap=0.3, seed=123)\n",
    "\n",
    "box_liq.save('START_BOX_0.pdb',  overwrite=True, residues_parmed_only=[Molecule_A.name])\n",
    "box_liq.save('START_BOX_0.psf', overwrite=True, forcefield_files='trappe-ua.xml', residues_parmed_only=[Molecule_A.name])\n",
    "#may try and use , use_residue_map=True at the end of the  .save file so the foyer.Forcefield file runs faseter\n",
    "\n",
    "box_vap = mb.fill_box(compound=[Molecule_A], n_compounds=[50], box=[7.9,7.9,7.9], overlap=0.3, seed=123)\n",
    "box_vap.save('START_BOX_1.pdb', overwrite=True, residues_parmed_only=[Molecule_A.name])\n",
    "box_vap.save('START_BOX_1.psf', overwrite=True, forcefield_files='trappe-ua.xml', residues_parmed_only=[Molecule_A.name])\n",
    "\n",
    "\n",
    "\n",
    "#box_vap.save('box.lammps', forcefield_files='trappe-ua.xml', overwrite=True)\n",
    "box_vap.save('iso_octane.inp', forcefield_files='trappe-ua.xml', overwrite=True)\n",
    "\n",
    "\n",
    "Molecule_A.visualize()\n",
    "#Molecule_B.visualize()"
   ]
  },
  {
   "cell_type": "code",
   "execution_count": null,
   "metadata": {},
   "outputs": [],
   "source": []
  },
  {
   "cell_type": "code",
   "execution_count": null,
   "metadata": {},
   "outputs": [],
   "source": []
  },
  {
   "cell_type": "code",
   "execution_count": null,
   "metadata": {},
   "outputs": [],
   "source": []
  },
  {
   "cell_type": "code",
   "execution_count": null,
   "metadata": {},
   "outputs": [],
   "source": []
  }
 ],
 "metadata": {
  "kernelspec": {
   "display_name": "Python 3",
   "language": "python",
   "name": "python3"
  },
  "language_info": {
   "codemirror_mode": {
    "name": "ipython",
    "version": 3
   },
   "file_extension": ".py",
   "mimetype": "text/x-python",
   "name": "python",
   "nbconvert_exporter": "python",
   "pygments_lexer": "ipython3",
   "version": "3.7.6"
  }
 },
 "nbformat": 4,
 "nbformat_minor": 4
}
